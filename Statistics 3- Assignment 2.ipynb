{
 "cells": [
  {
   "cell_type": "code",
   "execution_count": null,
   "metadata": {},
   "outputs": [],
   "source": [
    " # In one state, 52% of the voters are Republicans, and 48% are Democrats. In a second\n",
    "state, 47% of the voters are Republicans, and 53% are Democrats. Suppose a simple\n",
    "random sample of 100 voters are surveyed from each state.\n",
    "What is the probability that the survey will show a greater percentage of Republican\n",
    "voters in the second state than in the first state?"
   ]
  },
  {
   "cell_type": "code",
   "execution_count": null,
   "metadata": {},
   "outputs": [],
   "source": [
    "Hypothesis: Survey of Voters having Republicans in the Second state is more than First state\n",
    "\n",
    "P1= proportion of Republican in  the first state = 0.52\n",
    "P2= Proportion of Republican in the second state= 0.47\n",
    "D1=proportion of Democrats  in  the first state= 0.48\n",
    "D2=proportion of Democrats in  the second state= 0.53\n",
    "\n",
    "Difference in sample proportion is 0.05\n",
    "\n",
    "Std.dev= Sqrt([0.52*.48/100] + [.48*.53/100])= .0706\n",
    "\n",
    "Z Score = (0-0.05)/0.0706 = -0.708\n",
    "\n",
    "Probility of Survey of Voters having Republicans in the second state is more than First state is 0.24 \n",
    "\n",
    "Accept the Hypothesis"
   ]
  }
 ],
 "metadata": {
  "kernelspec": {
   "display_name": "Python 3",
   "language": "python",
   "name": "python3"
  },
  "language_info": {
   "codemirror_mode": {
    "name": "ipython",
    "version": 3
   },
   "file_extension": ".py",
   "mimetype": "text/x-python",
   "name": "python",
   "nbconvert_exporter": "python",
   "pygments_lexer": "ipython3",
   "version": "3.6.4"
  }
 },
 "nbformat": 4,
 "nbformat_minor": 2
}
